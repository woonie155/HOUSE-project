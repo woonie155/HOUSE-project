version https://git-lfs.github.com/spec/v1
oid sha256:5e26f16ea0de1aefd1a502cc72aa2044def7b0361ff2545caddb383ce20f9fab
size 6058
